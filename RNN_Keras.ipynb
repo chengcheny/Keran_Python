{
  "nbformat": 4,
  "nbformat_minor": 0,
  "metadata": {
    "colab": {
      "name": "RNN_Keras.ipynb",
      "version": "0.3.2",
      "provenance": [],
      "collapsed_sections": [],
      "include_colab_link": true
    },
    "kernelspec": {
      "name": "python3",
      "display_name": "Python 3"
    }
  },
  "cells": [
    {
      "cell_type": "markdown",
      "metadata": {
        "id": "view-in-github",
        "colab_type": "text"
      },
      "source": [
        "<a href=\"https://colab.research.google.com/github/chengcheny/Keras_Python/blob/master/RNN_Keras.ipynb\" target=\"_parent\"><img src=\"https://colab.research.google.com/assets/colab-badge.svg\" alt=\"Open In Colab\"/></a>"
      ]
    },
    {
      "cell_type": "markdown",
      "metadata": {
        "id": "FdR7Kx_cRHaI",
        "colab_type": "text"
      },
      "source": [
        "# RNN_Keras"
      ]
    },
    {
      "cell_type": "code",
      "metadata": {
        "id": "TpVc7WtiRKyN",
        "colab_type": "code",
        "colab": {}
      },
      "source": [
        "import numpy as np\n",
        "np.random.seed(1337)\n",
        "\n",
        "from keras.datasets import mnist\n",
        "from keras.utils import np_utils\n",
        "from keras.models import Sequential\n",
        "from keras.layers import SimpleRNN, Activation, Dense\n",
        "from keras.optimizers import Adam"
      ],
      "execution_count": 0,
      "outputs": []
    },
    {
      "cell_type": "code",
      "metadata": {
        "id": "AdDAEkvKRuUc",
        "colab_type": "code",
        "colab": {}
      },
      "source": [
        "TIME_STEPS = 28\n",
        "INPUT_SIZE = 28\n",
        "BATCH_SIZE = 50\n",
        "BATCH_INDEX = 0\n",
        "OUTPUT_SIZE = 10\n",
        "CELL_SIZE = 50\n",
        "LR = 0.001"
      ],
      "execution_count": 0,
      "outputs": []
    },
    {
      "cell_type": "code",
      "metadata": {
        "id": "YfnDcUB-S6lB",
        "colab_type": "code",
        "colab": {}
      },
      "source": [
        "#download the mnist \n",
        "#X_shape(60000 28*28) Y_shape(100000)\n",
        "(X_train, Y_train), (X_test, Y_test) = mnist.load_data()"
      ],
      "execution_count": 0,
      "outputs": []
    },
    {
      "cell_type": "code",
      "metadata": {
        "id": "Kp0aNbruTPC6",
        "colab_type": "code",
        "colab": {}
      },
      "source": [
        "#data pre-processing\n",
        "X_train = X_train.reshape(-1, 28, 28) / 255\n",
        "X_test = X_test.reshape(-1, 28, 28) / 255\n",
        "Y_train = np_utils.to_categorical(Y_train, num_classes=10)\n",
        "Y_test = np_utils.to_categorical(Y_test, num_classes=10)"
      ],
      "execution_count": 0,
      "outputs": []
    },
    {
      "cell_type": "code",
      "metadata": {
        "id": "K1rs9WSdTzn-",
        "colab_type": "code",
        "colab": {}
      },
      "source": [
        "#build RNN model\n",
        "model = Sequential()"
      ],
      "execution_count": 0,
      "outputs": []
    },
    {
      "cell_type": "code",
      "metadata": {
        "id": "ACINtgktT3w4",
        "colab_type": "code",
        "colab": {
          "base_uri": "https://localhost:8080/",
          "height": 71
        },
        "outputId": "5ada4e70-8ba4-44c4-9c33-428d6211f36f"
      },
      "source": [
        "#RNN cell\n",
        "model.add(SimpleRNN(\n",
        "    batch_input_shape=(None, TIME_STEPS, INPUT_SIZE),\n",
        "    output_dim=CELL_SIZE,\n",
        "    unroll=True,\n",
        "))"
      ],
      "execution_count": 26,
      "outputs": [
        {
          "output_type": "stream",
          "text": [
            "/usr/local/lib/python3.6/dist-packages/ipykernel_launcher.py:4: UserWarning: Update your `SimpleRNN` call to the Keras 2 API: `SimpleRNN(batch_input_shape=(None, 28,..., unroll=True, units=50)`\n",
            "  after removing the cwd from sys.path.\n"
          ],
          "name": "stderr"
        }
      ]
    },
    {
      "cell_type": "code",
      "metadata": {
        "id": "SU7bBPGUUJ9e",
        "colab_type": "code",
        "colab": {}
      },
      "source": [
        "#output layer\n",
        "model.add(Dense(OUTPUT_SIZE))\n",
        "model.add(Activation('softmax'))"
      ],
      "execution_count": 0,
      "outputs": []
    },
    {
      "cell_type": "code",
      "metadata": {
        "id": "lHZ7imhlURzl",
        "colab_type": "code",
        "colab": {}
      },
      "source": [
        "#optimzer\n",
        "adam = Adam(LR)\n",
        "model.compile(optimizer=adam,\n",
        "              loss='categorical_crossentropy',\n",
        "              metrics=['accuracy'])"
      ],
      "execution_count": 0,
      "outputs": []
    },
    {
      "cell_type": "code",
      "metadata": {
        "id": "NsV_bL2oUgot",
        "colab_type": "code",
        "colab": {
          "base_uri": "https://localhost:8080/",
          "height": 102
        },
        "outputId": "638b390d-daad-4b0c-fb43-88db8d01868e"
      },
      "source": [
        "#training\n",
        "for step in range(4001):\n",
        "  X_batch = X_train[BATCH_INDEX: BATCH_INDEX+BATCH_INDEX, :, :]\n",
        "  Y_batch = Y_train[BATCH_INDEX: BATCH_INDEX+BATCH_INDEX, :]\n",
        "  cost = model.train_on_batch(X_batch, Y_batch)\n",
        "  BATCH_INDEX +=BATCH_SIZE\n",
        "  BATCH_INDEX =0 if BATCH_INDEX >= X_train.shape[0] else BATCH_INDEX\n",
        "\n",
        "  if step % 500 ==0:\n",
        "    cost, accuracy = model.evaluate(X_test, Y_test, batch_size=Y_test.shape[0], verbose=False)\n",
        "    print('test cost:', cost, 'Test accuracy:', accuracy)"
      ],
      "execution_count": 0,
      "outputs": [
        {
          "output_type": "stream",
          "text": [
            "test cost: 2.392200469970703 Test accuracy: 0.03750000149011612\n",
            "test cost: 0.20795117318630219 Test accuracy: 0.942799985408783\n",
            "test cost: 0.18575100600719452 Test accuracy: 0.9480000138282776\n",
            "test cost: 0.1644725799560547 Test accuracy: 0.9559999704360962\n",
            "test cost: 0.14647941291332245 Test accuracy: 0.9603000283241272\n",
            "test cost: 0.16485491394996643 Test accuracy: 0.9560999870300293\n"
          ],
          "name": "stdout"
        }
      ]
    }
  ]
}