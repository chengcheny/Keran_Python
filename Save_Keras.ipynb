{
  "nbformat": 4,
  "nbformat_minor": 0,
  "metadata": {
    "colab": {
      "name": "Save_Keras.ipynb",
      "version": "0.3.2",
      "provenance": [],
      "collapsed_sections": [],
      "include_colab_link": true
    },
    "kernelspec": {
      "name": "python3",
      "display_name": "Python 3"
    }
  },
  "cells": [
    {
      "cell_type": "markdown",
      "metadata": {
        "id": "view-in-github",
        "colab_type": "text"
      },
      "source": [
        "<a href=\"https://colab.research.google.com/github/chengcheny/Keras_Python/blob/master/Save_Keras.ipynb\" target=\"_parent\"><img src=\"https://colab.research.google.com/assets/colab-badge.svg\" alt=\"Open In Colab\"/></a>"
      ]
    },
    {
      "cell_type": "markdown",
      "metadata": {
        "id": "1FDszX8ajQDM",
        "colab_type": "text"
      },
      "source": [
        "#Save_model by Keras"
      ]
    },
    {
      "cell_type": "markdown",
      "metadata": {
        "id": "humSev0ChL4M",
        "colab_type": "text"
      },
      "source": [
        "## import libraries\n"
      ]
    },
    {
      "cell_type": "code",
      "metadata": {
        "id": "nSv1huC_gI4H",
        "colab_type": "code",
        "colab": {}
      },
      "source": [
        "import numpy as np\n",
        "np.random.seed(1337) # for reproducibility\n",
        "from keras.models import Sequential\n",
        "from keras.layers import Dense\n",
        "from keras.models import load_model\n",
        "import matplotlib.pyplot as plt"
      ],
      "execution_count": 0,
      "outputs": []
    },
    {
      "cell_type": "markdown",
      "metadata": {
        "id": "Lfr7vUa7hIYO",
        "colab_type": "text"
      },
      "source": [
        "## creat some data"
      ]
    },
    {
      "cell_type": "code",
      "metadata": {
        "id": "6NQkybOphW1H",
        "colab_type": "code",
        "outputId": "8ed71640-423d-4a1e-f123-f99cf08eacb6",
        "colab": {
          "base_uri": "https://localhost:8080/",
          "height": 269
        }
      },
      "source": [
        "X = np.linspace(-1,1,200)\n",
        "np.random.shuffle(X) # randomize the data\n",
        "Y = 0.5 * X + np.random.normal(0,0.05,(200,))\n",
        "plt.scatter(X,Y)  #plot data\n",
        "plt.show()"
      ],
      "execution_count": 4,
      "outputs": [
        {
          "output_type": "display_data",
          "data": {
            "image/png": "[encoded data removed]",
            "text/plain": [
              "<Figure size 432x288 with 1 Axes>"
            ]
          },
          "metadata": {
            "tags": []
          }
        }
      ]
    },
    {
      "cell_type": "markdown",
      "metadata": {
        "id": "bK-vsyQNi_aF",
        "colab_type": "text"
      },
      "source": [
        "## build the model"
      ]
    },
    {
      "cell_type": "code",
      "metadata": {
        "id": "qrAjDn61iUJX",
        "colab_type": "code",
        "colab": {
          "base_uri": "https://localhost:8080/",
          "height": 156
        },
        "outputId": "4be0be79-fa7c-4858-a867-ae507e3906c4"
      },
      "source": [
        "X_train, Y_train = X[:160], Y[:160] #train front 160 data points\n",
        "X_test, Y_test = X[160:], Y[160:]  #test raw 40 data points\n",
        "model = Sequential()\n",
        "model.add(Dense(units=1,input_dim=1))"
      ],
      "execution_count": 5,
      "outputs": [
        {
          "output_type": "stream",
          "text": [
            "WARNING: Logging before flag parsing goes to stderr.\n",
            "W0813 20:00:41.683597 140170259699584 deprecation_wrapper.py:119] From /usr/local/lib/python3.6/dist-packages/keras/backend/tensorflow_backend.py:74: The name tf.get_default_graph is deprecated. Please use tf.compat.v1.get_default_graph instead.\n",
            "\n",
            "W0813 20:00:41.740336 140170259699584 deprecation_wrapper.py:119] From /usr/local/lib/python3.6/dist-packages/keras/backend/tensorflow_backend.py:517: The name tf.placeholder is deprecated. Please use tf.compat.v1.placeholder instead.\n",
            "\n",
            "W0813 20:00:41.751566 140170259699584 deprecation_wrapper.py:119] From /usr/local/lib/python3.6/dist-packages/keras/backend/tensorflow_backend.py:4138: The name tf.random_uniform is deprecated. Please use tf.random.uniform instead.\n",
            "\n"
          ],
          "name": "stderr"
        }
      ]
    },
    {
      "cell_type": "markdown",
      "metadata": {
        "id": "Mks3k8g9jCfQ",
        "colab_type": "text"
      },
      "source": [
        "## active the model"
      ]
    },
    {
      "cell_type": "code",
      "metadata": {
        "id": "B3PjZPUyjEw-",
        "colab_type": "code",
        "colab": {
          "base_uri": "https://localhost:8080/",
          "height": 71
        },
        "outputId": "56721765-bb34-4c0d-c55f-e2d0cd8a8a35"
      },
      "source": [
        "model.compile(optimizer='sgd',loss='mse')"
      ],
      "execution_count": 6,
      "outputs": [
        {
          "output_type": "stream",
          "text": [
            "W0813 20:00:41.796484 140170259699584 deprecation_wrapper.py:119] From /usr/local/lib/python3.6/dist-packages/keras/optimizers.py:790: The name tf.train.Optimizer is deprecated. Please use tf.compat.v1.train.Optimizer instead.\n",
            "\n"
          ],
          "name": "stderr"
        }
      ]
    },
    {
      "cell_type": "markdown",
      "metadata": {
        "id": "zNGiz1ZyjdSu",
        "colab_type": "text"
      },
      "source": [
        "## training "
      ]
    },
    {
      "cell_type": "code",
      "metadata": {
        "id": "E6kr8Znyjf37",
        "colab_type": "code",
        "colab": {
          "base_uri": "https://localhost:8080/",
          "height": 105
        },
        "outputId": "1a4c1211-4ecb-45db-9976-640b7c8bed34"
      },
      "source": [
        "#\n",
        "'''\n",
        "print('Training---------')\n",
        "for step in range(301):\n",
        "  cost = model.train_on_batch(X_train,Y_train)\n",
        "  if step % 100 ==0:\n",
        "    print('train cost:', cost)\n",
        "'''\n",
        "cost = model.train_on_batch(X_train,Y_train)"
      ],
      "execution_count": 7,
      "outputs": [
        {
          "output_type": "stream",
          "text": [
            "W0813 20:00:42.019201 140170259699584 deprecation_wrapper.py:119] From /usr/local/lib/python3.6/dist-packages/keras/backend/tensorflow_backend.py:986: The name tf.assign_add is deprecated. Please use tf.compat.v1.assign_add instead.\n",
            "\n",
            "W0813 20:00:42.035051 140170259699584 deprecation_wrapper.py:119] From /usr/local/lib/python3.6/dist-packages/keras/backend/tensorflow_backend.py:973: The name tf.assign is deprecated. Please use tf.compat.v1.assign instead.\n",
            "\n"
          ],
          "name": "stderr"
        }
      ]
    },
    {
      "cell_type": "code",
      "metadata": {
        "id": "4qsOfRN1mKKH",
        "colab_type": "code",
        "colab": {}
      },
      "source": [
        ""
      ],
      "execution_count": 0,
      "outputs": []
    },
    {
      "cell_type": "markdown",
      "metadata": {
        "id": "IoLLeUjDj3Od",
        "colab_type": "text"
      },
      "source": [
        "## evalute\n"
      ]
    },
    {
      "cell_type": "code",
      "metadata": {
        "id": "wTTQpLq8j6sF",
        "colab_type": "code",
        "outputId": "737b1883-9bab-46fc-c34c-90a262101824",
        "colab": {
          "base_uri": "https://localhost:8080/",
          "height": 119
        }
      },
      "source": [
        "print('\\nTesting-------')\n",
        "cost = model.evaluate(X_test,Y_test,batch_size = 40)\n",
        "print('test cost:',cost)\n",
        "W, b= model.layers[0].get_weights()\n",
        "print('Weights=',W,'\\nbiases=',b)\n",
        "\n"
      ],
      "execution_count": 8,
      "outputs": [
        {
          "output_type": "stream",
          "text": [
            "\n",
            "Testing-------\n",
            "\r40/40 [==============================] - 0s 600us/step\n",
            "test cost: 0.004179663490504026\n",
            "Weights= [[0.540418]] \n",
            "biases= [9.511698e-05]\n"
          ],
          "name": "stdout"
        }
      ]
    },
    {
      "cell_type": "markdown",
      "metadata": {
        "id": "cEgGgSiVkf3y",
        "colab_type": "text"
      },
      "source": [
        "##Plotting the prediciton"
      ]
    },
    {
      "cell_type": "code",
      "metadata": {
        "id": "2HYjZRTlkiq1",
        "colab_type": "code",
        "outputId": "23ed5281-edde-4015-980a-e15ba3cc2a1e",
        "colab": {
          "base_uri": "https://localhost:8080/",
          "height": 269
        }
      },
      "source": [
        "Y_pred = model.predict(X_test)\n",
        "plt.scatter(X_test,Y_test)\n",
        "plt.plot(X_test,Y_pred)\n",
        "plt.show()"
      ],
      "execution_count": 9,
      "outputs": [
        {
          "output_type": "display_data",
          "data": {
            "image/png": "[encoded data removed]",
            "text/plain": [
              "<Figure size 432x288 with 1 Axes>"
            ]
          },
          "metadata": {
            "tags": []
          }
        }
      ]
    },
    {
      "cell_type": "markdown",
      "metadata": {
        "id": "uXG7rPTMj5EK",
        "colab_type": "text"
      },
      "source": [
        "##Save"
      ]
    },
    {
      "cell_type": "code",
      "metadata": {
        "id": "5ANTGil0j3_F",
        "colab_type": "code",
        "colab": {
          "base_uri": "https://localhost:8080/",
          "height": 51
        },
        "outputId": "787b4e19-5f67-4682-8ee3-cf9c561e618d"
      },
      "source": [
        "print('test before save:', model.predict(X_test[0:2]))\n",
        "model.save('my_model.h5')\n",
        "del model"
      ],
      "execution_count": 10,
      "outputs": [
        {
          "output_type": "stream",
          "text": [
            "test before save: [[-0.1275413 ]\n",
            " [ 0.20377025]]\n"
          ],
          "name": "stdout"
        }
      ]
    },
    {
      "cell_type": "markdown",
      "metadata": {
        "id": "N0eg0GIikHuK",
        "colab_type": "text"
      },
      "source": [
        "##Load"
      ]
    },
    {
      "cell_type": "code",
      "metadata": {
        "id": "beVHmsidkG2K",
        "colab_type": "code",
        "colab": {
          "base_uri": "https://localhost:8080/",
          "height": 51
        },
        "outputId": "7ebc8366-2e12-49fd-d118-1c86708556a9"
      },
      "source": [
        "model = load_model('my_model.h5')\n",
        "print('test after load:', model.predict(X_test[0:2]))"
      ],
      "execution_count": 11,
      "outputs": [
        {
          "output_type": "stream",
          "text": [
            "test after load: [[-0.1275413 ]\n",
            " [ 0.20377025]]\n"
          ],
          "name": "stdout"
        }
      ]
    },
    {
      "cell_type": "code",
      "metadata": {
        "id": "vGcm-OpWkcf0",
        "colab_type": "code",
        "colab": {}
      },
      "source": [
        "\n",
        "# save and load weights\n",
        "model.save_weights('my_model_weights.h5')\n",
        "model.load_weights('my_model_weights.h5')\n",
        "# save and load fresh network without trained weights\n",
        "from keras.models import model_from_json\n",
        "json_string = model.to_json()\n",
        "model = model_from_json(json_string)\n"
      ],
      "execution_count": 0,
      "outputs": []
    },
    {
      "cell_type": "code",
      "metadata": {
        "id": "2ezgMYjmlP7Z",
        "colab_type": "code",
        "colab": {
          "base_uri": "https://localhost:8080/",
          "height": 34
        },
        "outputId": "1a599cec-46e8-4c2e-de36-cb84e8bbf914"
      },
      "source": [
        "def absolute_file_path(path_fname):\n",
        "        import os\n",
        "        return os.path.abspath('path_fname')        \n",
        "print(\"Absolute file path: \",absolute_file_path(\"my_model_weights.h5\"))"
      ],
      "execution_count": 37,
      "outputs": [
        {
          "output_type": "stream",
          "text": [
            "Absolute file path:  /content/path_fname\n"
          ],
          "name": "stdout"
        }
      ]
    }
  ]
}