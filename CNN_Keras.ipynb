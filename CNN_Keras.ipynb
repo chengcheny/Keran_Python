{
  "nbformat": 4,
  "nbformat_minor": 0,
  "metadata": {
    "colab": {
      "name": "CNN_Keras.ipynb",
      "version": "0.3.2",
      "provenance": [],
      "collapsed_sections": [],
      "include_colab_link": true
    },
    "kernelspec": {
      "name": "python3",
      "display_name": "Python 3"
    }
  },
  "cells": [
    {
      "cell_type": "markdown",
      "metadata": {
        "id": "view-in-github",
        "colab_type": "text"
      },
      "source": [
        "<a href=\"https://colab.research.google.com/github/chengcheny/Keran_Python/blob/master/CNN_Keras.ipynb\" target=\"_parent\"><img src=\"https://colab.research.google.com/assets/colab-badge.svg\" alt=\"Open In Colab\"/></a>"
      ]
    },
    {
      "cell_type": "markdown",
      "metadata": {
        "id": "sHrG_sB2DJe1",
        "colab_type": "text"
      },
      "source": [
        "# CNN Keras"
      ]
    },
    {
      "cell_type": "code",
      "metadata": {
        "id": "GxrLLe0XDNPM",
        "colab_type": "code",
        "colab": {
          "base_uri": "https://localhost:8080/",
          "height": 34
        },
        "outputId": "ef06f6a8-1d59-4e6d-da52-543d79e548b9"
      },
      "source": [
        "#import libraries \n",
        "import numpy as np\n",
        "np.random.seed(1337)\n",
        "from keras.datasets import mnist\n",
        "from keras.utils import np_utils\n",
        "from keras.models import Sequential\n",
        "from keras.layers import Dense, Activation, Convolution2D, MaxPooling2D, Flatten\n",
        "from keras.optimizers import Adam"
      ],
      "execution_count": 2,
      "outputs": [
        {
          "output_type": "stream",
          "text": [
            "Using TensorFlow backend.\n"
          ],
          "name": "stderr"
        }
      ]
    },
    {
      "cell_type": "code",
      "metadata": {
        "id": "Csr13EWzD4KK",
        "colab_type": "code",
        "colab": {}
      },
      "source": [
        "#import data\n",
        "# download the mnist to the path '~/.keras/datasets/' if it is the first time to be called\n",
        "# training X shape (60000, 28x28), Y shape (60000, ). test X shape (10000, 28x28), Y shape (10000, )\n",
        "(X_train, Y_train), (X_test, Y_test) = mnist.load_data()"
      ],
      "execution_count": 0,
      "outputs": []
    },
    {
      "cell_type": "code",
      "metadata": {
        "id": "Z8FR9bkQEHMx",
        "colab_type": "code",
        "colab": {}
      },
      "source": [
        "#data pre-processing\n",
        "X_train = X_train.reshape(-1, 1, 28, 28)/255\n",
        "X_test = X_test.reshape(-1, 1, 28, 28)/255\n",
        "Y_train = np_utils.to_categorical(Y_train, num_classes=10)\n",
        "Y_test = np_utils.to_categorical(Y_test, num_classes=10)"
      ],
      "execution_count": 0,
      "outputs": []
    },
    {
      "cell_type": "code",
      "metadata": {
        "id": "_GrEWHCsFEQC",
        "colab_type": "code",
        "colab": {
          "base_uri": "https://localhost:8080/",
          "height": 88
        },
        "outputId": "192002a2-7221-4b27-dbad-70291fc9457f"
      },
      "source": [
        "#Another way to build the CNN\n",
        "model = Sequential()"
      ],
      "execution_count": 5,
      "outputs": [
        {
          "output_type": "stream",
          "text": [
            "WARNING: Logging before flag parsing goes to stderr.\n",
            "W0813 18:09:44.571982 140610380486528 deprecation_wrapper.py:119] From /usr/local/lib/python3.6/dist-packages/keras/backend/tensorflow_backend.py:74: The name tf.get_default_graph is deprecated. Please use tf.compat.v1.get_default_graph instead.\n",
            "\n"
          ],
          "name": "stderr"
        }
      ]
    },
    {
      "cell_type": "code",
      "metadata": {
        "id": "rwW7fOsyFMUw",
        "colab_type": "code",
        "colab": {
          "base_uri": "https://localhost:8080/",
          "height": 173
        },
        "outputId": "6cdd1d28-925d-4075-9458-b402e5cc14ce"
      },
      "source": [
        "#Conv Layer 1 output shape (32, 28, 28)\n",
        "model.add(Convolution2D(\n",
        "    batch_input_shape=(None, 1, 28, 28),\n",
        "    filters=32,\n",
        "    kernel_size=5,\n",
        "    strides=1,\n",
        "    padding='same',     # Padding method\n",
        "    data_format='channels_first',\n",
        "))\n",
        "model.add(Activation('relu'))"
      ],
      "execution_count": 6,
      "outputs": [
        {
          "output_type": "stream",
          "text": [
            "W0813 18:09:44.637603 140610380486528 deprecation_wrapper.py:119] From /usr/local/lib/python3.6/dist-packages/keras/backend/tensorflow_backend.py:517: The name tf.placeholder is deprecated. Please use tf.compat.v1.placeholder instead.\n",
            "\n",
            "W0813 18:09:44.649753 140610380486528 deprecation_wrapper.py:119] From /usr/local/lib/python3.6/dist-packages/keras/backend/tensorflow_backend.py:4138: The name tf.random_uniform is deprecated. Please use tf.random.uniform instead.\n",
            "\n",
            "W0813 18:09:44.701704 140610380486528 deprecation_wrapper.py:119] From /usr/local/lib/python3.6/dist-packages/keras/backend/tensorflow_backend.py:174: The name tf.get_default_session is deprecated. Please use tf.compat.v1.get_default_session instead.\n",
            "\n",
            "W0813 18:09:44.703310 140610380486528 deprecation_wrapper.py:119] From /usr/local/lib/python3.6/dist-packages/keras/backend/tensorflow_backend.py:181: The name tf.ConfigProto is deprecated. Please use tf.compat.v1.ConfigProto instead.\n",
            "\n"
          ],
          "name": "stderr"
        }
      ]
    },
    {
      "cell_type": "code",
      "metadata": {
        "id": "XHKK2-y5Gr5d",
        "colab_type": "code",
        "colab": {
          "base_uri": "https://localhost:8080/",
          "height": 71
        },
        "outputId": "57d0ffd3-9627-4cdf-ffa1-9232890e4495"
      },
      "source": [
        "#pooling layer 1(max pooling) output shape (32, 14, 14)\n",
        "model.add(MaxPooling2D(\n",
        "    pool_size = 2,\n",
        "    strides = 2,\n",
        "    padding = 'same',\n",
        "    data_format = 'channels_first',\n",
        "))"
      ],
      "execution_count": 7,
      "outputs": [
        {
          "output_type": "stream",
          "text": [
            "W0813 18:09:44.847348 140610380486528 deprecation_wrapper.py:119] From /usr/local/lib/python3.6/dist-packages/keras/backend/tensorflow_backend.py:3976: The name tf.nn.max_pool is deprecated. Please use tf.nn.max_pool2d instead.\n",
            "\n"
          ],
          "name": "stderr"
        }
      ]
    },
    {
      "cell_type": "code",
      "metadata": {
        "id": "bWIg16HPHM8J",
        "colab_type": "code",
        "colab": {}
      },
      "source": [
        "#Conv layer 2 output shape (64, 14, 14)\n",
        "model.add(Convolution2D(64, 5, \n",
        "                        strides = 1,\n",
        "                        padding = 'same', \n",
        "                        data_format ='channels_first'\n",
        "                        ))\n",
        "model.add(Activation('relu'))"
      ],
      "execution_count": 0,
      "outputs": []
    },
    {
      "cell_type": "code",
      "metadata": {
        "id": "5a58W_MIHuJ4",
        "colab_type": "code",
        "colab": {}
      },
      "source": [
        "#Pooling layer 2 (Max pooling) output shape (64, 7, 7)\n",
        "model.add(MaxPooling2D(2, 2, \n",
        "                       'same', \n",
        "                       data_format='channels_first'))"
      ],
      "execution_count": 0,
      "outputs": []
    },
    {
      "cell_type": "code",
      "metadata": {
        "id": "11jCpV4IIFV_",
        "colab_type": "code",
        "colab": {}
      },
      "source": [
        "#Fully connected layer 1 input shape (64*7*7) = (3136), output shape (1024)\n",
        "model.add(Flatten())\n",
        "model.add(Dense(1024))\n",
        "model.add(Activation('relu'))"
      ],
      "execution_count": 0,
      "outputs": []
    },
    {
      "cell_type": "code",
      "metadata": {
        "id": "qtsZZb06IX02",
        "colab_type": "code",
        "colab": {}
      },
      "source": [
        "#Fully conneted layer 2 to shape(10) for 10 classes\n",
        "model.add(Dense(10))\n",
        "model.add(Activation('softmax'))"
      ],
      "execution_count": 0,
      "outputs": []
    },
    {
      "cell_type": "code",
      "metadata": {
        "id": "53ssKmCjIlaO",
        "colab_type": "code",
        "colab": {}
      },
      "source": [
        "#Another way to define the optimizer\n",
        "adam = Adam(lr=1e-4)"
      ],
      "execution_count": 0,
      "outputs": []
    },
    {
      "cell_type": "code",
      "metadata": {
        "id": "h0IRhEV3Is9d",
        "colab_type": "code",
        "outputId": "7eac3c6c-215c-42ea-eab2-4a152663f166",
        "colab": {
          "base_uri": "https://localhost:8080/",
          "height": 71
        }
      },
      "source": [
        "#add metrics to get more results you want to see\n",
        "model.compile(optimizer=adam,\n",
        "              loss='categorical_crossentropy',\n",
        "              metrics=['accuracy']\n",
        "              )"
      ],
      "execution_count": 13,
      "outputs": [
        {
          "output_type": "stream",
          "text": [
            "W0813 18:09:45.211987 140610380486528 deprecation_wrapper.py:119] From /usr/local/lib/python3.6/dist-packages/keras/optimizers.py:790: The name tf.train.Optimizer is deprecated. Please use tf.compat.v1.train.Optimizer instead.\n",
            "\n"
          ],
          "name": "stderr"
        }
      ]
    },
    {
      "cell_type": "code",
      "metadata": {
        "id": "0-NI6Os4I-hs",
        "colab_type": "code",
        "outputId": "60b9fe59-e884-42f6-cbb2-2ce03d1388f2",
        "colab": {
          "base_uri": "https://localhost:8080/",
          "height": 258
        }
      },
      "source": [
        "print('Training------------')\n",
        "model.fit(X_train, Y_train, epochs=1, batch_size=64,)\n",
        "\n",
        "print('\\nTesting-----------')\n",
        "loss, accuracy = model.evaluate(X_test, Y_test)\n",
        "\n",
        "print('\\ntest loss:', loss)\n",
        "print('\\ntest accuracy:', accuracy)"
      ],
      "execution_count": 14,
      "outputs": [
        {
          "output_type": "stream",
          "text": [
            "W0813 18:09:45.501527 140610380486528 deprecation.py:323] From /usr/local/lib/python3.6/dist-packages/tensorflow/python/ops/math_grad.py:1250: add_dispatch_support.<locals>.wrapper (from tensorflow.python.ops.array_ops) is deprecated and will be removed in a future version.\n",
            "Instructions for updating:\n",
            "Use tf.where in 2.0, which has the same broadcast rule as np.where\n"
          ],
          "name": "stderr"
        },
        {
          "output_type": "stream",
          "text": [
            "Training------------\n",
            "Epoch 1/1\n",
            "60000/60000 [==============================] - 297s 5ms/step - loss: 0.2706 - acc: 0.9263\n",
            "\n",
            "Testing-----------\n",
            "10000/10000 [==============================] - 11s 1ms/step\n",
            "\n",
            "test loss: 0.10086646013110877\n",
            "\n",
            "test accuracy: 0.9688\n"
          ],
          "name": "stdout"
        }
      ]
    }
  ]
}